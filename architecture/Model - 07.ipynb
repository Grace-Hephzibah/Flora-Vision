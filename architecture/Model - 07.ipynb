{
 "cells": [
  {
   "cell_type": "markdown",
   "id": "d7136868",
   "metadata": {},
   "source": [
    "# Architecture "
   ]
  },
  {
   "cell_type": "code",
   "execution_count": null,
   "id": "e8b03d91",
   "metadata": {},
   "outputs": [],
   "source": [
    "model_name = \"model_7.keras\"\n",
    "epochs = 20"
   ]
  },
  {
   "cell_type": "markdown",
   "id": "bb21ca66",
   "metadata": {},
   "source": [
    "# Importing Libraries"
   ]
  },
  {
   "cell_type": "code",
   "execution_count": null,
   "id": "30942d86",
   "metadata": {},
   "outputs": [],
   "source": [
    "import tensorflow as tf\n",
    "\n",
    "from tensorflow import keras\n",
    "from tensorflow.keras import layers\n",
    "from keras.preprocessing.image import ImageDataGenerator\n",
    "\n",
    "import matplotlib.pyplot as plt\n",
    "import pandas as pd\n",
    "import numpy as np \n",
    "\n",
    "from sklearn.metrics import confusion_matrix\n",
    "\n",
    "import seaborn as sns\n",
    "sns.set()"
   ]
  },
  {
   "cell_type": "code",
   "execution_count": null,
   "id": "eb1042c6",
   "metadata": {},
   "outputs": [],
   "source": [
    "# To avoid the kernel dead state\n",
    "import os\n",
    "os.environ[\"KMP_DUPLICATE_LIB_OK\"]=\"TRUE\"\n",
    "\n",
    "import warnings\n",
    "warnings.filterwarnings('ignore')"
   ]
  },
  {
   "cell_type": "markdown",
   "id": "d9e5fac3",
   "metadata": {},
   "source": [
    "# Importing Data "
   ]
  },
  {
   "cell_type": "code",
   "execution_count": null,
   "id": "13624c79",
   "metadata": {},
   "outputs": [],
   "source": [
    "# path to training and vaildation data\n",
    "train_dir = \"../train\"\n",
    "val_dir = \"../val\"\n",
    "test_dir = \"../test\""
   ]
  },
  {
   "cell_type": "code",
   "execution_count": null,
   "id": "148527d2",
   "metadata": {},
   "outputs": [],
   "source": [
    "# checking if the classes match in both directories\n",
    "os.listdir(train_dir) == os.listdir(test_dir)"
   ]
  },
  {
   "cell_type": "code",
   "execution_count": null,
   "id": "50f4c4b5",
   "metadata": {},
   "outputs": [],
   "source": [
    "# checking if the classes match in both directories\n",
    "os.listdir(train_dir) == os.listdir(val_dir)"
   ]
  },
  {
   "cell_type": "code",
   "execution_count": null,
   "id": "251465d9",
   "metadata": {},
   "outputs": [],
   "source": [
    "image_size = (150, 150)    # target image size\n",
    "batch_size = 64\n",
    "\n",
    "val_ds = tf.keras.utils.image_dataset_from_directory(\n",
    "    val_dir,\n",
    "    seed=43,\n",
    "    image_size=image_size,\n",
    "    batch_size=batch_size,\n",
    "    label_mode ='categorical'\n",
    ")\n",
    "\n",
    "test_ds = tf.keras.utils.image_dataset_from_directory(\n",
    "    test_dir,\n",
    "    seed=43,\n",
    "    image_size=image_size,\n",
    "    batch_size=batch_size,\n",
    "    label_mode ='categorical'\n",
    ")"
   ]
  },
  {
   "cell_type": "code",
   "execution_count": null,
   "id": "1f608adc",
   "metadata": {},
   "outputs": [],
   "source": [
    "# Data Augmentation\n",
    "train_datagen = ImageDataGenerator(\n",
    "                    featurewise_center=False,  \n",
    "                    samplewise_center=False,  \n",
    "                    featurewise_std_normalization=False, \n",
    "                    samplewise_std_normalization=False, \n",
    "                    zca_whitening=False,\n",
    "                    rotation_range=40,\n",
    "                    width_shift_range=.3,\n",
    "                    height_shift_range=.3,\n",
    "                    shear_range=.3,\n",
    "                    zoom_range=.3,\n",
    "                    horizontal_flip=True,\n",
    "                    vertical_flip = True,\n",
    "                    fill_mode='nearest'\n",
    "                  )\n",
    "\n",
    "train_ds = train_datagen.flow_from_directory(\n",
    "                                                directory=train_dir,\n",
    "                                                batch_size=batch_size,\n",
    "                                                class_mode='categorical',\n",
    "                                                target_size=(150, 150), \n",
    "                                                seed = 43\n",
    "                                            )"
   ]
  },
  {
   "cell_type": "markdown",
   "id": "ce19ec4f",
   "metadata": {},
   "source": [
    "# Visualize The Data "
   ]
  },
  {
   "cell_type": "code",
   "execution_count": null,
   "id": "61276c98",
   "metadata": {},
   "outputs": [],
   "source": [
    "# Get a batch of images from the generator\n",
    "batch_images, batch_labels = next(train_ds)\n",
    "\n",
    "# Get class labels from the generator\n",
    "class_labels = list(train_ds.class_indices.keys())\n",
    "\n",
    "# Number of images per row \n",
    "row = 3\n",
    "\n",
    "# Number of image columns\n",
    "col = 3\n",
    "\n",
    "# Figure size\n",
    "fig = (5, 5)"
   ]
  },
  {
   "cell_type": "code",
   "execution_count": null,
   "id": "6aedede6",
   "metadata": {},
   "outputs": [],
   "source": [
    "plt.figure(figsize=fig)\n",
    "for i in range(row*col):\n",
    "    plt.subplot(row, col, i + 1)\n",
    "    plt.imshow(batch_images[i].astype('uint8'))\n",
    "    plt.title(class_labels[batch_labels[i].argmax()])\n",
    "    plt.axis('off')\n",
    "plt.tight_layout()\n",
    "plt.show()"
   ]
  },
  {
   "cell_type": "markdown",
   "id": "674af032",
   "metadata": {},
   "source": [
    "# Plotting Function"
   ]
  },
  {
   "cell_type": "code",
   "execution_count": null,
   "id": "7f0e2a03",
   "metadata": {},
   "outputs": [],
   "source": [
    "# let's create a function to plot the accuracy and loss curves \n",
    "def plot_curves(hist):\n",
    "    accuracy = hist.history[\"accuracy\"]\n",
    "    val_accuracy = hist.history[\"val_accuracy\"]\n",
    "    loss = hist.history[\"loss\"]\n",
    "    val_loss = hist.history[\"val_loss\"]\n",
    "    epochs = range(1, len(accuracy) + 1)\n",
    "\n",
    "    plt.plot(epochs, accuracy, \"r\", label=\"Training accuracy\")\n",
    "    plt.plot(epochs, val_accuracy, \"b\", label=\"Validation accuracy\")\n",
    "    plt.title(\"Training and validation accuracy\")\n",
    "    plt.legend()\n",
    "    plt.figure()\n",
    "\n",
    "    plt.plot(epochs, loss, \"r\", label=\"Training loss\")\n",
    "    plt.plot(epochs, val_loss, \"b\", label=\"Validation loss\")\n",
    "    plt.title(\"Training and validation loss\")\n",
    "    plt.legend()\n",
    "    plt.show()"
   ]
  },
  {
   "cell_type": "markdown",
   "id": "3b401f4b",
   "metadata": {},
   "source": [
    "# Model Checkpoint"
   ]
  },
  {
   "cell_type": "code",
   "execution_count": null,
   "id": "37de9ee8",
   "metadata": {},
   "outputs": [],
   "source": [
    "ModelCheckPoint_Callback = keras.callbacks.ModelCheckpoint(\n",
    "    filepath='../Models/' + model_name,\n",
    "    monitor='val_accuracy',\n",
    "    mode='max',\n",
    "    save_best_only=True)"
   ]
  },
  {
   "cell_type": "code",
   "execution_count": null,
   "id": "f2fe6b7e",
   "metadata": {},
   "outputs": [],
   "source": [
    "callbacks = [ModelCheckPoint_Callback]"
   ]
  },
  {
   "cell_type": "markdown",
   "id": "b277325f",
   "metadata": {},
   "source": [
    "# Model"
   ]
  },
  {
   "cell_type": "code",
   "execution_count": null,
   "id": "a1cd9836",
   "metadata": {},
   "outputs": [],
   "source": [
    "inputs = keras.Input(shape=(150, 150, 3))\n",
    "x = layers.Rescaling(1./255)(inputs)\n",
    "x = layers.Conv2D(32, (3, 3), activation=\"relu\")(x)\n",
    "x = layers.MaxPooling2D(2, 2)(x)\n",
    "x = layers.Conv2D(64, (3, 3), activation=\"relu\")(x)\n",
    "x = layers.MaxPooling2D(2, 2)(x)\n",
    "x = layers.Conv2D(128, (3, 3), activation=\"relu\")(x)\n",
    "x = layers.MaxPooling2D(2, 2)(x)\n",
    "x = layers.Conv2D(256, (3, 3), activation=\"relu\")(x)\n",
    "x = layers.MaxPooling2D(2, 2)(x)\n",
    "x = layers.Conv2D(512, (3, 3), activation=\"relu\")(x)\n",
    "x = layers.MaxPooling2D(2, 2)(x)\n",
    "x = layers.Flatten()(x)\n",
    "outputs = layers.Dense(5, activation=\"softmax\")(x)\n",
    "model = keras.Model(inputs, outputs)"
   ]
  },
  {
   "cell_type": "code",
   "execution_count": null,
   "id": "0429846e",
   "metadata": {},
   "outputs": [],
   "source": [
    "model.summary()"
   ]
  },
  {
   "cell_type": "code",
   "execution_count": null,
   "id": "336e4f9f",
   "metadata": {},
   "outputs": [],
   "source": [
    "model.compile(loss=\"categorical_crossentropy\",\n",
    "             metrics=[\"accuracy\"],\n",
    "             optimizer=\"rmsprop\")\n",
    "\n",
    "hist = model.fit(train_ds, epochs=epochs, validation_data=val_ds, callbacks = callbacks)"
   ]
  },
  {
   "cell_type": "markdown",
   "id": "f40b0a7d",
   "metadata": {},
   "source": [
    "# Final Evaluations"
   ]
  },
  {
   "cell_type": "code",
   "execution_count": null,
   "id": "77bfc711",
   "metadata": {
    "scrolled": true
   },
   "outputs": [],
   "source": [
    "plot_curves(hist)"
   ]
  },
  {
   "cell_type": "code",
   "execution_count": null,
   "id": "17c35dd8",
   "metadata": {},
   "outputs": [],
   "source": [
    "pred = model.predict(test_ds)\n",
    "pred"
   ]
  },
  {
   "cell_type": "code",
   "execution_count": null,
   "id": "04e199fb",
   "metadata": {},
   "outputs": [],
   "source": [
    "y_test = test_ds\n",
    "model.evaluate(test_ds)"
   ]
  },
  {
   "cell_type": "markdown",
   "id": "1f238453",
   "metadata": {},
   "source": [
    "# Confusion Matrix"
   ]
  },
  {
   "cell_type": "code",
   "execution_count": null,
   "id": "dc62aa59",
   "metadata": {},
   "outputs": [],
   "source": [
    "# Initialize empty lists to store true labels and predicted labels\n",
    "true_labels = []\n",
    "predicted_labels = []\n",
    "\n",
    "# Iterate through the test_ds dataset to extract true labels and predicted labels\n",
    "for images, labels in test_ds:\n",
    "    true_labels.extend(np.argmax(labels.numpy(), axis=1))  \n",
    "    predicted_labels.extend(np.argmax(model.predict(images), axis=1))  "
   ]
  },
  {
   "cell_type": "code",
   "execution_count": null,
   "id": "3277dd44",
   "metadata": {},
   "outputs": [],
   "source": [
    "# Compute confusion matrix\n",
    "conf_matrix = confusion_matrix(true_labels, predicted_labels)\n",
    "\n",
    "# Plot confusion matrix using seaborn\n",
    "plt.figure(figsize=(10, 8))\n",
    "sns.heatmap(conf_matrix, annot=True, fmt='d', cmap='Blues', \n",
    "            xticklabels=class_labels, yticklabels=class_labels)\n",
    "plt.xlabel('Predicted Labels')\n",
    "plt.ylabel('True Labels')\n",
    "plt.title('Confusion Matrix')\n",
    "plt.show()"
   ]
  },
  {
   "cell_type": "markdown",
   "id": "1b5288e4",
   "metadata": {},
   "source": [
    "# Code Ends Here! "
   ]
  }
 ],
 "metadata": {
  "kernelspec": {
   "display_name": "Python 3 (ipykernel)",
   "language": "python",
   "name": "python3"
  },
  "language_info": {
   "codemirror_mode": {
    "name": "ipython",
    "version": 3
   },
   "file_extension": ".py",
   "mimetype": "text/x-python",
   "name": "python",
   "nbconvert_exporter": "python",
   "pygments_lexer": "ipython3",
   "version": "3.10.12"
  }
 },
 "nbformat": 4,
 "nbformat_minor": 5
}
